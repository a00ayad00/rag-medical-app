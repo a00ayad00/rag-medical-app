{
 "cells": [
  {
   "cell_type": "code",
   "execution_count": 1,
   "id": "3def7221",
   "metadata": {},
   "outputs": [],
   "source": [
    "from langchain.document_loaders import PyPDFLoader, DirectoryLoader\n",
    "\n",
    "def pdf_loader(pdf_path):\n",
    "    \"\"\"Load a PDF file and split it into chunks.\"\"\"\n",
    "    loader = DirectoryLoader(pdf_path, glob=\"*.pdf\", loader_cls=PyPDFLoader)\n",
    "\n",
    "    return loader.load()\n"
   ]
  },
  {
   "cell_type": "code",
   "execution_count": 2,
   "id": "ebf37004",
   "metadata": {},
   "outputs": [],
   "source": [
    "docs = pdf_loader(\"pdfs\")"
   ]
  },
  {
   "cell_type": "code",
   "execution_count": 3,
   "id": "0db91602",
   "metadata": {},
   "outputs": [
    {
     "data": {
      "text/plain": [
       "637"
      ]
     },
     "execution_count": 3,
     "metadata": {},
     "output_type": "execute_result"
    }
   ],
   "source": [
    "len(docs)"
   ]
  },
  {
   "cell_type": "code",
   "execution_count": 4,
   "id": "1aba64aa",
   "metadata": {},
   "outputs": [
    {
     "data": {
      "text/plain": [
       "Document(metadata={'producer': 'PDFlib+PDI 5.0.0 (SunOS)', 'creator': 'PyPDF', 'creationdate': '2004-12-18T17:00:02-05:00', 'moddate': '2004-12-18T16:15:31-06:00', 'source': 'pdfs\\\\The Gale Encyclopedia of Medicine.pdf', 'total_pages': 637, 'page': 0, 'page_label': '1'}, page_content='')"
      ]
     },
     "execution_count": 4,
     "metadata": {},
     "output_type": "execute_result"
    }
   ],
   "source": [
    "docs[0]"
   ]
  },
  {
   "cell_type": "code",
   "execution_count": 5,
   "id": "193a828f",
   "metadata": {},
   "outputs": [],
   "source": [
    "from langchain_core.documents.base import Document\n",
    "\n",
    "def meta_filter(docs: list[Document]) -> list[Document]:\n",
    "    \"\"\"Filter documents based on metadata.\"\"\"\n",
    "    final_docs = []\n",
    "    for doc in docs:\n",
    "        source = doc.metadata['source']\n",
    "        page = doc.metadata['page']\n",
    "        final_docs.append(Document(\n",
    "            page_content=doc.page_content,\n",
    "            metadata={\n",
    "                'source': source,\n",
    "                'page': page\n",
    "            }\n",
    "        ))\n",
    "\n",
    "    return final_docs"
   ]
  },
  {
   "cell_type": "code",
   "execution_count": 6,
   "id": "e435e598",
   "metadata": {},
   "outputs": [
    {
     "data": {
      "text/plain": [
       "Document(metadata={'source': 'pdfs\\\\The Gale Encyclopedia of Medicine.pdf', 'page': 0}, page_content='')"
      ]
     },
     "execution_count": 6,
     "metadata": {},
     "output_type": "execute_result"
    }
   ],
   "source": [
    "docs = meta_filter(docs)\n",
    "docs[0]"
   ]
  },
  {
   "cell_type": "code",
   "execution_count": 7,
   "id": "3892091e",
   "metadata": {},
   "outputs": [],
   "source": [
    "from langchain.text_splitter import RecursiveCharacterTextSplitter\n",
    "\n",
    "def text_splitter(docs: list[Document]) -> list[Document]:\n",
    "    \"\"\"Split documents into smaller chunks.\"\"\"\n",
    "    text_splitter = RecursiveCharacterTextSplitter(chunk_size=800, chunk_overlap=80)\n",
    "    \n",
    "    return text_splitter.split_documents(docs)"
   ]
  },
  {
   "cell_type": "code",
   "execution_count": 8,
   "id": "16eed5e5",
   "metadata": {},
   "outputs": [
    {
     "data": {
      "text/plain": [
       "3900"
      ]
     },
     "execution_count": 8,
     "metadata": {},
     "output_type": "execute_result"
    }
   ],
   "source": [
    "splits = text_splitter(docs)\n",
    "\n",
    "len(splits)"
   ]
  },
  {
   "cell_type": "code",
   "execution_count": 9,
   "id": "6497ccf8",
   "metadata": {},
   "outputs": [
    {
     "name": "stderr",
     "output_type": "stream",
     "text": [
      "C:\\Users\\Al-Huda\\AppData\\Local\\Temp\\ipykernel_9108\\3046315552.py:4: LangChainDeprecationWarning: The class `HuggingFaceEmbeddings` was deprecated in LangChain 0.2.2 and will be removed in 1.0. An updated version of the class exists in the :class:`~langchain-huggingface package and should be used instead. To use it run `pip install -U :class:`~langchain-huggingface` and import as `from :class:`~langchain_huggingface import HuggingFaceEmbeddings``.\n",
      "  embedding_model = HuggingFaceEmbeddings(\n",
      "d:\\LLM\\rag medical app\\.venv\\Lib\\site-packages\\tqdm\\auto.py:21: TqdmWarning: IProgress not found. Please update jupyter and ipywidgets. See https://ipywidgets.readthedocs.io/en/stable/user_install.html\n",
      "  from .autonotebook import tqdm as notebook_tqdm\n"
     ]
    }
   ],
   "source": [
    "from langchain.embeddings import HuggingFaceEmbeddings\n",
    "import torch\n",
    "\n",
    "embedding_model = HuggingFaceEmbeddings(\n",
    "    model_name = 'sentence-transformers/all-MiniLM-L6-v2',\n",
    "    model_kwargs = {\n",
    "        \"device\": \"cuda\" if torch.cuda.is_available() else \"cpu\"\n",
    "    }\n",
    ")"
   ]
  },
  {
   "cell_type": "code",
   "execution_count": 10,
   "id": "a5a672af",
   "metadata": {},
   "outputs": [
    {
     "data": {
      "text/plain": [
       "HuggingFaceEmbeddings(client=SentenceTransformer(\n",
       "  (0): Transformer({'max_seq_length': 256, 'do_lower_case': False}) with Transformer model: BertModel \n",
       "  (1): Pooling({'word_embedding_dimension': 384, 'pooling_mode_cls_token': False, 'pooling_mode_mean_tokens': True, 'pooling_mode_max_tokens': False, 'pooling_mode_mean_sqrt_len_tokens': False, 'pooling_mode_weightedmean_tokens': False, 'pooling_mode_lasttoken': False, 'include_prompt': True})\n",
       "  (2): Normalize()\n",
       "), model_name='sentence-transformers/all-MiniLM-L6-v2', cache_folder=None, model_kwargs={'device': 'cpu'}, encode_kwargs={}, multi_process=False, show_progress=False)"
      ]
     },
     "execution_count": 10,
     "metadata": {},
     "output_type": "execute_result"
    }
   ],
   "source": [
    "embedding_model"
   ]
  },
  {
   "cell_type": "code",
   "execution_count": 11,
   "id": "aa3851a7",
   "metadata": {},
   "outputs": [
    {
     "name": "stderr",
     "output_type": "stream",
     "text": [
      "d:\\LLM\\rag medical app\\.venv\\Lib\\site-packages\\torch\\nn\\modules\\module.py:1762: FutureWarning: `encoder_attention_mask` is deprecated and will be removed in version 4.55.0 for `BertSdpaSelfAttention.forward`.\n",
      "  return forward_call(*args, **kwargs)\n"
     ]
    },
    {
     "data": {
      "text/plain": [
       "384"
      ]
     },
     "execution_count": 11,
     "metadata": {},
     "output_type": "execute_result"
    }
   ],
   "source": [
    "vec = embedding_model.embed_query(\"What is the treatment for diabetes?\")\n",
    "len(vec)"
   ]
  },
  {
   "cell_type": "code",
   "execution_count": 12,
   "id": "c1e6a8e0",
   "metadata": {},
   "outputs": [
    {
     "data": {
      "text/plain": [
       "[-0.0043837158009409904,\n",
       " 0.07504492998123169,\n",
       " -0.036999497562646866,\n",
       " 0.08182161301374435,\n",
       " -0.06613903492689133,\n",
       " -0.022863920778036118,\n",
       " 0.06654287874698639,\n",
       " 0.054875463247299194,\n",
       " 0.016562569886446,\n",
       " -0.016643783077597618]"
      ]
     },
     "execution_count": 12,
     "metadata": {},
     "output_type": "execute_result"
    }
   ],
   "source": [
    "vec[:10]  "
   ]
  },
  {
   "cell_type": "code",
   "execution_count": 13,
   "id": "0126a239",
   "metadata": {},
   "outputs": [
    {
     "data": {
      "text/plain": [
       "True"
      ]
     },
     "execution_count": 13,
     "metadata": {},
     "output_type": "execute_result"
    }
   ],
   "source": [
    "from dotenv import load_dotenv\n",
    "load_dotenv()"
   ]
  },
  {
   "cell_type": "code",
   "execution_count": 14,
   "id": "7c62c45f",
   "metadata": {},
   "outputs": [],
   "source": [
    "from pinecone import Pinecone, ServerlessSpec\n",
    "from langchain_pinecone import PineconeVectorStore\n",
    "\n",
    "pc = Pinecone()"
   ]
  },
  {
   "cell_type": "code",
   "execution_count": 15,
   "id": "b628bd4d",
   "metadata": {},
   "outputs": [],
   "source": [
    "index_name = \"medical-rag\"\n",
    "\n",
    "if not pc.has_index(index_name):\n",
    "    pc.create_index(\n",
    "        name=index_name,\n",
    "        spec=ServerlessSpec(\n",
    "            cloud='aws',\n",
    "            region='us-east-1',\n",
    "        ),\n",
    "        dimension=384,\n",
    "        metric=\"cosine\"\n",
    "    )\n",
    "\n",
    "    vector_store = PineconeVectorStore.from_documents(\n",
    "        documents = splits,\n",
    "        embedding = embedding_model,\n",
    "        index_name = index_name\n",
    "    )\n",
    "\n",
    "# index = pc.Index(index_name)"
   ]
  },
  {
   "cell_type": "code",
   "execution_count": 16,
   "id": "cff9bf27",
   "metadata": {},
   "outputs": [],
   "source": [
    "vector_store = PineconeVectorStore.from_existing_index(\n",
    "    embedding=embedding_model,\n",
    "    index_name=index_name\n",
    ")"
   ]
  },
  {
   "cell_type": "code",
   "execution_count": 17,
   "id": "2189e8cf",
   "metadata": {},
   "outputs": [],
   "source": [
    "retriever = vector_store.as_retriever(\n",
    "    search_type=\"similarity\",\n",
    "    search_kwargs={\"k\": 3},\n",
    ")"
   ]
  },
  {
   "cell_type": "code",
   "execution_count": 18,
   "id": "ce04d0b7",
   "metadata": {},
   "outputs": [
    {
     "name": "stderr",
     "output_type": "stream",
     "text": [
      "d:\\LLM\\rag medical app\\.venv\\Lib\\site-packages\\torch\\nn\\modules\\module.py:1762: FutureWarning: `encoder_attention_mask` is deprecated and will be removed in version 4.55.0 for `BertSdpaSelfAttention.forward`.\n",
      "  return forward_call(*args, **kwargs)\n"
     ]
    },
    {
     "data": {
      "text/plain": [
       "[Document(id='e7bcec19-da37-46e1-a1ae-bf64a3ad4a9a', metadata={'page': 274.0, 'source': 'pdfs\\\\The Gale Encyclopedia of Medicine.pdf'}, page_content='interact with tricyclic antidepressants. Be sure to check\\nwith a physician or pharmacist before combining tri-\\ncyclic antidepressants with any other prescription or non-\\nprescription (over-the-counter) medicine.\\nNancy Ross-Flanigan\\nAntidiabetic drugs\\nDefinition\\nAntidiabetic drugs are medicines that help control\\nblood sugar levels in people with diabetes mellitus\\n(sugar diabetes).\\nPurpose\\nDiabetes may be divided into type I and type II, for-\\nmerly termed juvenile onset or insulin-dependent, and\\nGALE ENCYCLOPEDIA OF MEDICINE 2 261\\nAntidiabetic drugs\\nGEM - 0001 to 0432 - A  10/22/03 1:42 PM  Page 261'),\n",
       " Document(id='37e05116-65bc-4d4f-8748-5fb5c13e9985', metadata={'page': 275.0, 'source': 'pdfs\\\\The Gale Encyclopedia of Medicine.pdf'}, page_content='biguanides, meglitinides, and thiazolidinediones.\\nInsulin (Humulin, Novolin) is the hormone responsi-\\nble for glucose utilization. It is effective in both types of\\ndiabetes, since, even in insulin resistance, some sensitivi-\\nty remains and the condition can be treated with larger\\ndoses of insulin. Most insulins are now produced by\\nrecombinant DNA techniques, and are chemically identi-\\ncal to natural human insulin. Isophane insulin suspen-\\nsion, insulin zinc suspension, and other formulations are\\nintended to extend the duration of action of insulin, and\\npermit glucose control over longer periods of time.\\nSulfonylureas (chlorpropamide [Diabinese], tolaza-\\nmide [Tolinase], glipizide [Glucotrol] and others) act by\\nincreasing insulin release from the beta cells of the pan-'),\n",
       " Document(id='d0709683-a934-42e4-a84d-c8531bce7a48', metadata={'page': 277.0, 'source': 'pdfs\\\\The Gale Encyclopedia of Medicine.pdf'}, page_content='National Diabetes Information Clearinghouse. 1 Information\\nWay, Bethesda, MD 20892-3560. (301)654-3327. ndic\\n@info.niddk.nih.gov.\\nOTHER\\nNational Institute of Diabetes and Digestive and Kidney Dis-\\neases. <http://www.niddk.nih.gov>.\\nSamuel Uretsky, PharmD\\nAntidiarrheal drugs\\nDefinition\\nAntidiarrheal drugs are medicines that relieve diarrhea.\\nKEY TERMS\\nBlood sugar—The concentration of glucose in the\\nblood.\\nGlucose—A simple sugar that serves as the body’s\\nmain source of energy.\\nHormone —A substance that is produced in one\\npart of the body, then travels through the blood-\\nstream to another part of the body where it has its\\neffect.\\nMetabolism —All the physical and chemical\\nchanges that occur in cells to allow growth and\\nmaintain body functions. These include processes')]"
      ]
     },
     "execution_count": 18,
     "metadata": {},
     "output_type": "execute_result"
    }
   ],
   "source": [
    "retriever.invoke(\"What is the treatment for diabetes?\")"
   ]
  },
  {
   "cell_type": "code",
   "execution_count": 19,
   "id": "d1b130c6",
   "metadata": {},
   "outputs": [
    {
     "data": {
      "text/plain": [
       "ChatGroq(client=<groq.resources.chat.completions.Completions object at 0x00000196FA33A900>, async_client=<groq.resources.chat.completions.AsyncCompletions object at 0x00000196FB726180>, model_name='llama3-8b-8192', model_kwargs={}, groq_api_key=SecretStr('**********'))"
      ]
     },
     "execution_count": 19,
     "metadata": {},
     "output_type": "execute_result"
    }
   ],
   "source": [
    "from langchain_groq import ChatGroq\n",
    "\n",
    "llm = ChatGroq(model=\"llama3-8b-8192\")\n",
    "llm"
   ]
  },
  {
   "cell_type": "code",
   "execution_count": 20,
   "id": "c2516c3e",
   "metadata": {},
   "outputs": [],
   "source": [
    "from langchain.chains import create_retrieval_chain\n",
    "from langchain.chains.combine_documents import create_stuff_documents_chain\n",
    "from langchain.prompts import ChatPromptTemplate"
   ]
  },
  {
   "cell_type": "code",
   "execution_count": 21,
   "id": "022f623f",
   "metadata": {},
   "outputs": [],
   "source": [
    "system_prompt = (\n",
    "    \"You are an medical assistant for question-answering tasks. \"\n",
    "    \"Use the following pieces of retrieved context to answer \"\n",
    "    \"the question. If you don't know the answer, say that you \"\n",
    "    \"don't know. Use three sentences maximum and keep the \"\n",
    "    \"answer concise.\"\n",
    "    \"\\n\\n\"\n",
    "    \"{context}\"\n",
    ")\n",
    "\n",
    "\n",
    "prompt = ChatPromptTemplate.from_messages([\n",
    "    (\"system\", system_prompt),\n",
    "    (\"human\", \"{input}\"),\n",
    "])"
   ]
  },
  {
   "cell_type": "code",
   "execution_count": 23,
   "id": "588f6d0a",
   "metadata": {},
   "outputs": [
    {
     "name": "stderr",
     "output_type": "stream",
     "text": [
      "d:\\LLM\\rag medical app\\.venv\\Lib\\site-packages\\torch\\nn\\modules\\module.py:1762: FutureWarning: `encoder_attention_mask` is deprecated and will be removed in version 4.55.0 for `BertSdpaSelfAttention.forward`.\n",
      "  return forward_call(*args, **kwargs)\n"
     ]
    },
    {
     "data": {
      "text/plain": [
       "{'input': 'What is the treatment for diabetes?',\n",
       " 'context': [Document(id='e7bcec19-da37-46e1-a1ae-bf64a3ad4a9a', metadata={'page': 274.0, 'source': 'pdfs\\\\The Gale Encyclopedia of Medicine.pdf'}, page_content='interact with tricyclic antidepressants. Be sure to check\\nwith a physician or pharmacist before combining tri-\\ncyclic antidepressants with any other prescription or non-\\nprescription (over-the-counter) medicine.\\nNancy Ross-Flanigan\\nAntidiabetic drugs\\nDefinition\\nAntidiabetic drugs are medicines that help control\\nblood sugar levels in people with diabetes mellitus\\n(sugar diabetes).\\nPurpose\\nDiabetes may be divided into type I and type II, for-\\nmerly termed juvenile onset or insulin-dependent, and\\nGALE ENCYCLOPEDIA OF MEDICINE 2 261\\nAntidiabetic drugs\\nGEM - 0001 to 0432 - A  10/22/03 1:42 PM  Page 261'),\n",
       "  Document(id='37e05116-65bc-4d4f-8748-5fb5c13e9985', metadata={'page': 275.0, 'source': 'pdfs\\\\The Gale Encyclopedia of Medicine.pdf'}, page_content='biguanides, meglitinides, and thiazolidinediones.\\nInsulin (Humulin, Novolin) is the hormone responsi-\\nble for glucose utilization. It is effective in both types of\\ndiabetes, since, even in insulin resistance, some sensitivi-\\nty remains and the condition can be treated with larger\\ndoses of insulin. Most insulins are now produced by\\nrecombinant DNA techniques, and are chemically identi-\\ncal to natural human insulin. Isophane insulin suspen-\\nsion, insulin zinc suspension, and other formulations are\\nintended to extend the duration of action of insulin, and\\npermit glucose control over longer periods of time.\\nSulfonylureas (chlorpropamide [Diabinese], tolaza-\\nmide [Tolinase], glipizide [Glucotrol] and others) act by\\nincreasing insulin release from the beta cells of the pan-'),\n",
       "  Document(id='d0709683-a934-42e4-a84d-c8531bce7a48', metadata={'page': 277.0, 'source': 'pdfs\\\\The Gale Encyclopedia of Medicine.pdf'}, page_content='National Diabetes Information Clearinghouse. 1 Information\\nWay, Bethesda, MD 20892-3560. (301)654-3327. ndic\\n@info.niddk.nih.gov.\\nOTHER\\nNational Institute of Diabetes and Digestive and Kidney Dis-\\neases. <http://www.niddk.nih.gov>.\\nSamuel Uretsky, PharmD\\nAntidiarrheal drugs\\nDefinition\\nAntidiarrheal drugs are medicines that relieve diarrhea.\\nKEY TERMS\\nBlood sugar—The concentration of glucose in the\\nblood.\\nGlucose—A simple sugar that serves as the body’s\\nmain source of energy.\\nHormone —A substance that is produced in one\\npart of the body, then travels through the blood-\\nstream to another part of the body where it has its\\neffect.\\nMetabolism —All the physical and chemical\\nchanges that occur in cells to allow growth and\\nmaintain body functions. These include processes')],\n",
       " 'answer': \"The treatment for diabetes typically includes antidiabetic drugs, such as insulin and sulfonylureas, which help control blood sugar levels. Additionally, patients with diabetes may need to interact with tricyclic antidepressants, and it's recommended to consult with a physician or pharmacist before combining these medications.\"}"
      ]
     },
     "execution_count": 23,
     "metadata": {},
     "output_type": "execute_result"
    }
   ],
   "source": [
    "qa_chain = create_stuff_documents_chain(llm, prompt)\n",
    "\n",
    "retrieval_chain = create_retrieval_chain(retriever, qa_chain)\n",
    "\n",
    "retrieval_chain.invoke({\"input\": \"What is the treatment for diabetes?\"})"
   ]
  },
  {
   "cell_type": "code",
   "execution_count": null,
   "id": "6ce925a2",
   "metadata": {},
   "outputs": [],
   "source": []
  },
  {
   "cell_type": "code",
   "execution_count": null,
   "id": "c8046b10",
   "metadata": {},
   "outputs": [],
   "source": []
  },
  {
   "cell_type": "code",
   "execution_count": null,
   "id": "dbc53417",
   "metadata": {},
   "outputs": [],
   "source": []
  }
 ],
 "metadata": {
  "kernelspec": {
   "display_name": "rag-medical-app",
   "language": "python",
   "name": "python3"
  },
  "language_info": {
   "codemirror_mode": {
    "name": "ipython",
    "version": 3
   },
   "file_extension": ".py",
   "mimetype": "text/x-python",
   "name": "python",
   "nbconvert_exporter": "python",
   "pygments_lexer": "ipython3",
   "version": "3.12.4"
  }
 },
 "nbformat": 4,
 "nbformat_minor": 5
}
